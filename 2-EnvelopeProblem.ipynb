{
 "cells": [
  {
   "cell_type": "markdown",
   "id": "83488b1a",
   "metadata": {},
   "source": [
    "## Discussion on Medium article\n",
    "https://medium.com/street-science/how-to-resolve-the-two-envelope-paradox-de3b8fb48849"
   ]
  },
  {
   "cell_type": "code",
   "execution_count": 1,
   "id": "62bf4ef3",
   "metadata": {},
   "outputs": [
    {
     "name": "stdout",
     "output_type": "stream",
     "text": [
      "Without shuffling the envelopes:\n",
      "Average if never swap: 5001.3 Average if always swap: 6247.1 Improvement: 24.9 %\n",
      "\n",
      "After first shuffling the envelopes:\n",
      "Average if never swap: 5627.0 Average if always swap: 5621.4 Improvement: -0.1 %\n"
     ]
    }
   ],
   "source": [
    "import numpy as np\n",
    "number_of_samples = 1000000          # Number of envelope choices to tes\n",
    "half_of_maximum_permitted = 10000    # Upper limit of the lower value to be tested\n",
    "\n",
    "first_envelope = np.random.uniform(low=1, high=half_of_maximum_permitted, size=number_of_samples)\n",
    "second_envelope = []\n",
    "for i in range(number_of_samples):\n",
    "    if np.random.uniform(0, 1) > 0.5:\n",
    "        second_envelope.append(2*first_envelope[i])\n",
    "    else:\n",
    "        second_envelope.append(0.5*first_envelope[i])\n",
    "never_swap = sum(first_envelope)/number_of_samples\n",
    "always_swap = sum(second_envelope)/number_of_samples\n",
    "improvement = always_swap/never_swap - 1\n",
    "print('Without shuffling the envelopes:')\n",
    "print('Average if never swap:',round(never_swap,1), 'Average if always swap:', round(always_swap,1), 'Improvement:', round(improvement*100,1),'%' )\n",
    "\n",
    "# Now, try again, but this time shuffling the two envelopes before selecting the first one\n",
    "for i in range(number_of_samples):\n",
    "    if np.random.uniform(0, 1) > 0.5:\n",
    "        first_envelope[i], second_envelope[i] = second_envelope[i], first_envelope[i]\n",
    "\n",
    "never_swap = sum(first_envelope)/number_of_samples\n",
    "always_swap = sum(second_envelope)/number_of_samples\n",
    "improvement = always_swap/never_swap - 1\n",
    "print('\\nAfter first shuffling the envelopes:')\n",
    "print('Average if never swap:',round(never_swap,1), 'Average if always swap:', round(always_swap,1), 'Improvement:', round(improvement*100,1),'%' )        "
   ]
  },
  {
   "cell_type": "code",
   "execution_count": null,
   "id": "0c1ba716",
   "metadata": {},
   "outputs": [],
   "source": []
  }
 ],
 "metadata": {
  "kernelspec": {
   "display_name": "Python 3 (ipykernel)",
   "language": "python",
   "name": "python3"
  },
  "language_info": {
   "codemirror_mode": {
    "name": "ipython",
    "version": 3
   },
   "file_extension": ".py",
   "mimetype": "text/x-python",
   "name": "python",
   "nbconvert_exporter": "python",
   "pygments_lexer": "ipython3",
   "version": "3.10.9"
  }
 },
 "nbformat": 4,
 "nbformat_minor": 5
}
